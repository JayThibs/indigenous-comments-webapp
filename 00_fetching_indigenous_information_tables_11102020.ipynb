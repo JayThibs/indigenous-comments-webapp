{
 "cells": [
  {
   "cell_type": "code",
   "execution_count": 10,
   "metadata": {},
   "outputs": [],
   "source": [
    "import pandas as pd\n",
    "import ipywidgets as widgets\n",
    "import camelot\n",
    "import re"
   ]
  },
  {
   "cell_type": "markdown",
   "metadata": {},
   "source": [
    "# Pulling Indigenous Information from CER Final Reports\n",
    "\n",
    "Description of app: This app allows users to load a PDF they would like to extract tables from. The app has been specifically designed to focus on tables containing indigenous information in the CER final reports. It can still work for other types of tables, but it isn't guarenteed it will work properly.\n",
    "\n",
    "## Caveats\n",
    "\n",
    "The app was created with the consideration that all CER final reports are the same. If the structure changes, it may not extract the tables as well.\n",
    "\n",
    "## Uploading a PDF of the CER Final Report\n",
    "\n",
    "Please upload the PDF you are currently interested in. Afterwards, you will be asked to fill in some information and then the table you are looking at. You can only extract one table at a time. Give the page numbers of the table and it will be extracted."
   ]
  },
  {
   "cell_type": "code",
   "execution_count": 2,
   "metadata": {
    "scrolled": false
   },
   "outputs": [
    {
     "data": {
      "application/vnd.jupyter.widget-view+json": {
       "model_id": "babd2af03d6c48ca8fb0ecb6f937121b",
       "version_major": 2,
       "version_minor": 0
      },
      "text/plain": [
       "FileUpload(value={}, accept='.pdf', description='Upload', multiple=True)"
      ]
     },
     "metadata": {},
     "output_type": "display_data"
    }
   ],
   "source": [
    "btn_upload = widgets.FileUpload(accept='.pdf', multiple=True)\n",
    "display(btn_upload)"
   ]
  },
  {
   "cell_type": "code",
   "execution_count": 29,
   "metadata": {},
   "outputs": [],
   "source": [
    "def extract_table(btn_upload):\n",
    "    [uploaded_file] = btn_upload.value\n",
    "    file_path = uploaded_file\n",
    "\n",
    "    for name, file_info in btn_upload.value.items():\n",
    "        with open (name, 'wb') as file:\n",
    "            file.write(file_info['content'])\n",
    "            \n",
    "    name_pattern = '([^//]+)$'\n",
    "    name_of_document = re.findall(name_pattern, file_path)\n",
    "    \n",
    "    pages_input = input(\"Enter the list of pages separated by space (e.g. 129 130 131): \")\n",
    "    pages = pages_input.split()\n",
    "\n",
    "    name_of_section = input()\n",
    "    name_of_appendix = input()\n",
    "\n",
    "    tables = camelot.read_pdf(uploaded_file, copy_text=['v'], strip_text = '\\n', line_scale=40, f = 'excel', flavour = 'lattice', pages='229, 230')\n",
    "    \n",
    "    for i, page in enumerate(pages):\n",
    "        tables[i].df['page_number'] = page\n",
    "        tables[i].df['name_of_document'] = name_of_document[0][9:-18]\n",
    "        # NEB_-_Report_-_Enbridge_-_Line_3_Replacement_Detailed_Assessment\n",
    "        tables[i].df['date_of_document'] = file_path[-8:-4]\n",
    "        tables[i].df['date_of_section'] = name_of_section\n",
    "        tables[i].df['name_of_appendix'] = name_of_appendix\n",
    "        \n",
    "    df = tables[0].df.append([tables[x].df for x in range(1, len(tables))]).reset_index(drop=True)\n",
    "    \n",
    "    s = df[1].str.split('  ').apply(pd.Series, 1).stack()\n",
    "    s.index = s.index.droplevel(-1)\n",
    "    s.name = '1'\n",
    "    \n",
    "    del df[1]\n",
    "    df = df.join(s)\n",
    "    \n",
    "    df['1'] = df['1'].str.replace('', '')\n",
    "    df['1'] = df['1'].str.replace('  ', '')\n",
    "    \n",
    "    df.to_excel(name_of_document[0][9:-18] + '_' + pages[0] + '_' + pages[-1] + '.xlsx')\n",
    "        \n",
    "    "
   ]
  },
  {
   "cell_type": "code",
   "execution_count": 30,
   "metadata": {},
   "outputs": [
    {
     "name": "stdout",
     "output_type": "stream",
     "text": [
      "Enter the list of pages separated by space (e.g. 129 130 131): 129 130\n",
      "Name of section\n",
      "Name of appendix\n"
     ]
    }
   ],
   "source": [
    "extract_button = widgets.Button(description=\"Extract Table\")\n",
    "extract_button.on_click(extract_table(btn_upload))"
   ]
  },
  {
   "cell_type": "code",
   "execution_count": null,
   "metadata": {},
   "outputs": [],
   "source": []
  }
 ],
 "metadata": {
  "kernelspec": {
   "display_name": "Python 3",
   "language": "python",
   "name": "python3"
  },
  "language_info": {
   "codemirror_mode": {
    "name": "ipython",
    "version": 3
   },
   "file_extension": ".py",
   "mimetype": "text/x-python",
   "name": "python",
   "nbconvert_exporter": "python",
   "pygments_lexer": "ipython3",
   "version": "3.7.4"
  }
 },
 "nbformat": 4,
 "nbformat_minor": 4
}
