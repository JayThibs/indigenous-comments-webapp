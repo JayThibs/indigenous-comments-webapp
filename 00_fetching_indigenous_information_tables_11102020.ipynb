{
 "cells": [
  {
   "cell_type": "code",
   "execution_count": 1,
   "metadata": {},
   "outputs": [
    {
     "name": "stderr",
     "output_type": "stream",
     "text": [
      "In /Users/jacquesthibodeau/anaconda3/lib/python3.7/site-packages/matplotlib/mpl-data/stylelib/_classic_test.mplstyle: \n",
      "The text.latex.preview rcparam was deprecated in Matplotlib 3.3 and will be removed two minor releases later.\n",
      "In /Users/jacquesthibodeau/anaconda3/lib/python3.7/site-packages/matplotlib/mpl-data/stylelib/_classic_test.mplstyle: \n",
      "The mathtext.fallback_to_cm rcparam was deprecated in Matplotlib 3.3 and will be removed two minor releases later.\n",
      "In /Users/jacquesthibodeau/anaconda3/lib/python3.7/site-packages/matplotlib/mpl-data/stylelib/_classic_test.mplstyle: Support for setting the 'mathtext.fallback_to_cm' rcParam is deprecated since 3.3 and will be removed two minor releases later; use 'mathtext.fallback : 'cm' instead.\n",
      "In /Users/jacquesthibodeau/anaconda3/lib/python3.7/site-packages/matplotlib/mpl-data/stylelib/_classic_test.mplstyle: \n",
      "The validate_bool_maybe_none function was deprecated in Matplotlib 3.3 and will be removed two minor releases later.\n",
      "In /Users/jacquesthibodeau/anaconda3/lib/python3.7/site-packages/matplotlib/mpl-data/stylelib/_classic_test.mplstyle: \n",
      "The savefig.jpeg_quality rcparam was deprecated in Matplotlib 3.3 and will be removed two minor releases later.\n",
      "In /Users/jacquesthibodeau/anaconda3/lib/python3.7/site-packages/matplotlib/mpl-data/stylelib/_classic_test.mplstyle: \n",
      "The keymap.all_axes rcparam was deprecated in Matplotlib 3.3 and will be removed two minor releases later.\n",
      "In /Users/jacquesthibodeau/anaconda3/lib/python3.7/site-packages/matplotlib/mpl-data/stylelib/_classic_test.mplstyle: \n",
      "The animation.avconv_path rcparam was deprecated in Matplotlib 3.3 and will be removed two minor releases later.\n",
      "In /Users/jacquesthibodeau/anaconda3/lib/python3.7/site-packages/matplotlib/mpl-data/stylelib/_classic_test.mplstyle: \n",
      "The animation.avconv_args rcparam was deprecated in Matplotlib 3.3 and will be removed two minor releases later.\n"
     ]
    }
   ],
   "source": [
    "import pandas as pd\n",
    "import ipywidgets as widgets\n",
    "import camelot\n",
    "import re\n",
    "import warnings\n",
    "import voila\n",
    "warnings.filterwarnings(\"ignore\")"
   ]
  },
  {
   "cell_type": "markdown",
   "metadata": {},
   "source": [
    "# Pulling Indigenous Information from CER Final Reports\n",
    "\n",
    "Description of app: This app allows users to load a PDF they would like to extract tables from. The app has been specifically designed to focus on tables containing indigenous information in the CER final reports. It can still work for other types of tables, but it isn't guarenteed it will work properly.\n",
    "\n",
    "## Caveats\n",
    "\n",
    "The app was created with the consideration that all CER final reports are the same. If the structure changes, it may not extract the tables as well.\n",
    "\n",
    "## Uploading a PDF of the CER Final Report\n",
    "\n",
    "Please upload the PDF you are currently interested in. Afterwards, you will be asked to fill in some information and then the table you are looking at. You can only extract one table at a time. Give the page numbers of the table and it will be extracted."
   ]
  },
  {
   "cell_type": "code",
   "execution_count": 2,
   "metadata": {
    "scrolled": false
   },
   "outputs": [
    {
     "data": {
      "application/vnd.jupyter.widget-view+json": {
       "model_id": "f96c5c43b7e04ca2a9b68a5b0cef5ac6",
       "version_major": 2,
       "version_minor": 0
      },
      "text/plain": [
       "FileUpload(value={}, accept='.pdf', description='Upload', multiple=True)"
      ]
     },
     "metadata": {},
     "output_type": "display_data"
    }
   ],
   "source": [
    "btn_upload = widgets.FileUpload(accept='.pdf', multiple=True)\n",
    "display(btn_upload)"
   ]
  },
  {
   "cell_type": "code",
   "execution_count": null,
   "metadata": {},
   "outputs": [],
   "source": [
    "output_extract_table = widgets.Output()"
   ]
  },
  {
   "cell_type": "code",
   "execution_count": null,
   "metadata": {},
   "outputs": [],
   "source": [
    "def extract_table(b):\n",
    "    with output_extract_table:\n",
    "        print('start extracting')        \n",
    "\n",
    "    [uploaded_file] = btn_upload.value\n",
    "    file_path = uploaded_file\n",
    "    \n",
    "    with output_extract_table:\n",
    "        print('file path:', file_path)\n",
    "\n",
    "#     for name, file_info in btn_upload.value.items():\n",
    "#         with open (name, 'wb') as file:\n",
    "#             file.write(file_info['content'])\n",
    "\n",
    "    name_pattern = '([^//]+)$'\n",
    "    name_of_document = re.findall(name_pattern, file_path)\n",
    "    \n",
    "    ## Pages input\n",
    "    \n",
    "    pages_widget = widgets.Text(\n",
    "            value='ex: 131, 132, 133, 134',\n",
    "            placeholder='Type pages to extract here!',\n",
    "            description='Pages: ',\n",
    "            disabled=False\n",
    "        )\n",
    "    display(pages_widget)\n",
    "\n",
    "    def pages_callback(wdgt):\n",
    "        global pages_str\n",
    "        pages_str = str(wdgt.value)\n",
    "        display(pages_str)\n",
    "\n",
    "    pages_widget.on_submit(pages_callback)\n",
    "\n",
    "    with output_extract_table:\n",
    "        print('pages:', pages)\n",
    "        \n",
    "    # Section input\n",
    "    \n",
    "    section_widget = widgets.Text(\n",
    "        value='ex: 7.3 Environmental Issues Raised by Participants',\n",
    "        placeholder='Type section name here!',\n",
    "        description='Section name: ',\n",
    "        disabled=False\n",
    "    )\n",
    "    display(section_widget)\n",
    "\n",
    "    def section_callback(wdgt):\n",
    "        global section_name\n",
    "        section_name = str(wdgt.value)\n",
    "        display(section_name)\n",
    "\n",
    "    section_widget.on_submit(section_callback)\n",
    "    \n",
    "    # Appendix input\n",
    "    \n",
    "    appendix_widget = widgets.Text(\n",
    "        value='ex: Appendix II - Aboriginal Groups that Participated in the OH-02-2015 Proceeding and the Form of their Participation',\n",
    "        placeholder='Type appendix name here!',\n",
    "        description='Appendix name: ',\n",
    "        disabled=False\n",
    "    )\n",
    "    display(appendix_widget)\n",
    "\n",
    "    def appendix_callback(wdgt):\n",
    "        global appendix_name\n",
    "        appendix_name = str(wdgt.value)\n",
    "        display(appendix_name)\n",
    "\n",
    "    appendix_widget.on_submit(appendix_callback)\n",
    "    \n",
    "    ## Pulling tables with Camelot\n",
    "\n",
    "    tables = camelot.read_pdf(uploaded_file, copy_text=['v'], strip_text = '\\n', line_scale=40, f = 'excel', flavour = 'lattice', pages=str(pages))\n",
    "#     print(tables[0].df)\n",
    "#     print(tables[1].df)\n",
    "\n",
    "    with output_extract_table:\n",
    "        print('tables:', len(tables))\n",
    "\n",
    "    for i, page in enumerate(pages_iter):\n",
    "#         print(page)\n",
    "        tables[i].df.rename(columns=tables[i].df.iloc[0], inplace = True)\n",
    "        tables[i].df.drop([0], inplace = True)\n",
    "        tables[i].df['page_number'] = page\n",
    "        tables[i].df['name_of_document'] = name_of_document[0][9:-18]\n",
    "        # NEB_-_Report_-_Enbridge_-_Line_3_Replacement_Detailed_Assessment\n",
    "        tables[i].df['date_of_document'] = file_path[-8:-4]\n",
    "        tables[i].df['name_of_section'] = name_of_section\n",
    "        tables[i].df['name_of_appendix'] = name_of_appendix\n",
    "\n",
    "    df = tables[0].df.append([tables[x].df for x in range(1, len(tables))]).reset_index(drop=True)\n",
    "    \n",
    "    ## Separating column with multiple points\n",
    "    \n",
    "    multi_point_col_widget = widgets.Text(\n",
    "        value='ex: Environmental Issue(s) Raised',\n",
    "        placeholder='Type column name here!',\n",
    "        description='What is the exact column title for the column with multiple information points?',\n",
    "        disabled=False\n",
    "    )\n",
    "    display(multi_point_col_widget)\n",
    "\n",
    "    def multi_point_col_callback(wdgt):\n",
    "        global multi_point_col_name\n",
    "        multi_point_col_name = str(wdgt.value)\n",
    "        display(multi_point_col_name)\n",
    "\n",
    "    multi_point_col_widget.on_submit(multi_point_col_callback)\n",
    "    \n",
    "    \n",
    "#     multi_point_col_name = input(\"What is the exact column title for the column with multiple information points?\")\n",
    "\n",
    "    s = df[multi_point_col_name].str.split('  ').apply(pd.Series, 1).stack()\n",
    "    s.index = s.index.droplevel(-1)\n",
    "    s.name = multi_point_col_name\n",
    "\n",
    "    del df[multi_point_col_name]\n",
    "    df = df.join(s)\n",
    "\n",
    "    df[multi_point_col_name] = df[multi_point_col_name].str.replace('', '')\n",
    "    df[multi_point_col_name] = df[multi_point_col_name].str.replace('  ', '')\n",
    "    df.drop(df.columns[[0]], axis=1, inplace=True)\n",
    "    \n",
    "    with output_extract_table:\n",
    "        print('df.shape:', df.shape)\n",
    "        \n",
    "    df.to_excel(name_of_document[0][9:-18] + '_' + str(pages_iter[0]) + '_' + str(pages_iter[-1]) + '.xlsx', index=False)\n"
   ]
  },
  {
   "cell_type": "code",
   "execution_count": null,
   "metadata": {},
   "outputs": [],
   "source": [
    "extract_button = widgets.Button(description=\"Extract Table\")\n",
    "display(extract_button)\n",
    "display(output_extract_table)\n",
    "\n",
    "extract_button.on_click(extract_table)\n"
   ]
  },
  {
   "cell_type": "code",
   "execution_count": null,
   "metadata": {},
   "outputs": [],
   "source": [
    "# A button example\n",
    "from IPython.display import display\n",
    "button = widgets.Button(description=\"Click Me!\")\n",
    "output = widgets.Output()\n",
    "\n",
    "display(button, output)\n",
    "\n",
    "def on_button_clicked(b):\n",
    "    with output:\n",
    "        print(\"Button clicked.\")\n",
    "\n",
    "button.on_click(on_button_clicked)"
   ]
  },
  {
   "cell_type": "code",
   "execution_count": null,
   "metadata": {},
   "outputs": [],
   "source": [
    "# file_path = 'A76575-3_NEB_-_Report_-_Enbridge_-_Line_3_Replacement_Detailed_Assessment_-_OH-002-2015.pdf'\n",
    "\n",
    "# name_pattern = '([^//]+)$'\n",
    "# name_of_document = re.findall(name_pattern, file_path)\n",
    "    \n",
    "# pages_iter = [131]\n",
    "# pages = str(str(pages_iter).strip('[]').replace(\"'\",\"\"))\n",
    "\n",
    "# tables = camelot.read_pdf(file_path, copy_text=['v'], strip_text = '\\n', line_scale=40, f = 'excel', flavour = 'lattice', pages=str(pages))\n",
    "\n"
   ]
  }
 ],
 "metadata": {
  "kernelspec": {
   "display_name": "Python 3",
   "language": "python",
   "name": "python3"
  },
  "language_info": {
   "codemirror_mode": {
    "name": "ipython",
    "version": 3
   },
   "file_extension": ".py",
   "mimetype": "text/x-python",
   "name": "python",
   "nbconvert_exporter": "python",
   "pygments_lexer": "ipython3",
   "version": "3.7.4"
  }
 },
 "nbformat": 4,
 "nbformat_minor": 4
}
