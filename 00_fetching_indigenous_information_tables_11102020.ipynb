{
 "cells": [
  {
   "cell_type": "code",
   "execution_count": 22,
   "metadata": {},
   "outputs": [],
   "source": [
    "import pandas as pd\n",
    "import ipywidgets as widgets\n",
    "from IPython.display import clear_output\n",
    "import camelot\n",
    "import re\n",
    "import warnings\n",
    "import voila\n",
    "warnings.filterwarnings(\"ignore\")"
   ]
  },
  {
   "cell_type": "markdown",
   "metadata": {},
   "source": [
    "# Pulling Indigenous Information from CER Final Reports\n",
    "\n",
    "Description of app: This app allows users to load a PDF they would like to extract tables from. The app has been specifically designed to focus on tables containing indigenous information in the CER final reports. It can still work for other types of tables, but it isn't guarenteed it will work properly.\n",
    "\n",
    "## Caveats\n",
    "\n",
    "The app was created with the consideration that all CER final reports are the same. If the structure changes, it may not extract the tables as well.\n",
    "\n",
    "## Uploading a PDF of the CER Final Report\n",
    "\n",
    "Please upload the PDF you are currently interested in. Afterwards, you will be asked to fill in some information and then the table you are looking at. You can only extract one table at a time. Give the page numbers of the table and it will be extracted."
   ]
  },
  {
   "cell_type": "code",
   "execution_count": 23,
   "metadata": {},
   "outputs": [
    {
     "data": {
      "application/vnd.jupyter.widget-view+json": {
       "model_id": "70caaefee11845eebfabdfdb33a8235d",
       "version_major": 2,
       "version_minor": 0
      },
      "text/plain": [
       "FileUpload(value={}, accept='.pdf', description='Upload')"
      ]
     },
     "metadata": {},
     "output_type": "display_data"
    }
   ],
   "source": [
    "btn_upload = widgets.FileUpload(accept='.pdf', multiple=False)\n",
    "display(btn_upload)"
   ]
  },
  {
   "cell_type": "code",
   "execution_count": 24,
   "metadata": {},
   "outputs": [],
   "source": [
    "output_pages = widgets.Output()\n",
    "output_section = widgets.Output()\n",
    "output_appendix = widgets.Output()\n",
    "\n",
    "output_extract_table = widgets.Output()\n",
    "output_multi_point_col = widgets.Output()\n",
    "output_separate_bullets = widgets.Output()\n",
    "output_save_table = widgets.Output()"
   ]
  },
  {
   "cell_type": "code",
   "execution_count": 25,
   "metadata": {},
   "outputs": [],
   "source": [
    "# layout = widgets.Layout(width='500px', height='40px') #set width and height\n",
    "layout = widgets.Layout(display='flex',flex_flow='column')\n",
    "button_layout = widgets.Layout(width='auto', height='40px') #set width and height\n",
    "style = {'description_width': 'initial'}\n",
    "\n",
    "def input_pages():\n",
    "    global pages_str\n",
    "    global pages_iter\n",
    "    pages_widget = widgets.Text(\n",
    "        value='',\n",
    "        placeholder='ex: 131, 132, 133, 134',\n",
    "        description='Pages (comma separated): ',\n",
    "        disabled=False,\n",
    "        layout=layout,\n",
    "        style=style\n",
    "    )\n",
    "    display(pages_widget)\n",
    "\n",
    "    def pages_callback(wdgt):\n",
    "        global pages_str\n",
    "        global pages_iter\n",
    "        \n",
    "        pages_str = str(wdgt.value)\n",
    "        display(pages_str)\n",
    "        pages_iter = [int(item) for item in pages_str.split(',')]\n",
    "        \n",
    "        with output_pages:\n",
    "            clear_output()\n",
    "            print('Pages: ', pages_str)\n",
    "\n",
    "    pages_widget.on_submit(pages_callback)\n",
    "    \n",
    "def input_section():\n",
    "    global section_name\n",
    "    section_widget = widgets.Text(\n",
    "        value='',\n",
    "        placeholder='ex: 7.3 Environmental Issues Raised by Participants',\n",
    "        description='Section Name: ',\n",
    "        disabled=False,\n",
    "        layout=layout,\n",
    "        style=style\n",
    "    )\n",
    "    display(section_widget)\n",
    "\n",
    "    def section_callback(wdgt):\n",
    "        global section_name\n",
    "        section_name = str(wdgt.value)\n",
    "        display(section_name)\n",
    "        \n",
    "        with output_section:\n",
    "            clear_output()\n",
    "            print('Section Name: ', section_name)\n",
    "\n",
    "    section_widget.on_submit(section_callback)\n",
    "    \n",
    "def input_appendix():\n",
    "    global appendix_name\n",
    "    appendix_widget = widgets.Text(\n",
    "        value='',\n",
    "        placeholder='ex: Appendix II - Aboriginal Groups that Participated in the OH-02-2015 Proceeding and the Form of their Participation',\n",
    "        description='Appendix Name: ',\n",
    "        disabled=False,\n",
    "        layout=layout,\n",
    "        style=style\n",
    "    )\n",
    "    display(appendix_widget)\n",
    "\n",
    "    def appendix_callback(wdgt):\n",
    "        global appendix_name\n",
    "        appendix_name = str(wdgt.value)\n",
    "        display(appendix_name)\n",
    "        \n",
    "        with output_appendix:\n",
    "            clear_output()\n",
    "            print('Appendix Name: ', appendix_name)\n",
    "\n",
    "    appendix_widget.on_submit(appendix_callback)"
   ]
  },
  {
   "cell_type": "code",
   "execution_count": 26,
   "metadata": {},
   "outputs": [],
   "source": [
    "def extract_table(b):\n",
    "    global df\n",
    "    global pages_iter\n",
    "    global name_of_document\n",
    "    with output_extract_table:\n",
    "        clear_output()\n",
    "        print('start extracting')        \n",
    "\n",
    "    [uploaded_file] = btn_upload.value\n",
    "    file_path = uploaded_file\n",
    "    \n",
    "    with output_extract_table:\n",
    "        print('file path:', file_path)\n",
    "\n",
    "#     for name, file_info in btn_upload.value.items():\n",
    "#         with open (name, 'wb') as file:\n",
    "#             file.write(file_info['content'])\n",
    "\n",
    "    name_pattern = '([^//]+)$'\n",
    "    name_of_document = re.findall(name_pattern, file_path)\n",
    "\n",
    "    with output_extract_table:\n",
    "        print('pages: ', pages_str)\n",
    "    \n",
    "    ## Pulling tables with Camelot\n",
    "\n",
    "    tables = camelot.read_pdf(uploaded_file, copy_text=['v'], strip_text = '\\n', line_scale=40, f = 'excel', flavour = 'lattice', pages=str(pages_str))\n",
    "#     print(tables[0].df)\n",
    "#     print(tables[1].df)\n",
    "\n",
    "    with output_extract_table:\n",
    "        print('tables: ', len(tables))\n",
    "\n",
    "    for i, page in enumerate(pages_iter):\n",
    "#         print(page)\n",
    "        tables[i].df.rename(columns=tables[i].df.iloc[0], inplace = True)\n",
    "        tables[i].df.drop([0], inplace = True)\n",
    "        tables[i].df['page_number'] = page\n",
    "        tables[i].df['name_of_document'] = name_of_document[0][9:-18]\n",
    "        # NEB_-_Report_-_Enbridge_-_Line_3_Replacement_Detailed_Assessment\n",
    "        tables[i].df['date_of_document'] = file_path[-8:-4]\n",
    "        tables[i].df['name_of_section'] = section_name\n",
    "        tables[i].df['name_of_appendix'] = appendix_name\n",
    "        \n",
    "    if len(tables) > 1:\n",
    "        df = tables[0].df.append([tables[x].df for x in range(1, len(tables))]).reset_index(drop=True)\n",
    "    else:\n",
    "        df = tables[0].df\n",
    "        \n",
    "    with output_extract_table:\n",
    "        print('Finished Extraction')"
   ]
  },
  {
   "cell_type": "code",
   "execution_count": 27,
   "metadata": {},
   "outputs": [],
   "source": [
    "def input_multi_point_col():\n",
    "    global multi_point_col_name\n",
    "    multi_point_col_widget = widgets.Text(\n",
    "        value='',\n",
    "        placeholder='ex: Environmental Issue(s) Raised',\n",
    "        #What is the exact column title for the column with multiple information points?\n",
    "        description='Name of column with multiple bullet points: ',\n",
    "        disabled=False,\n",
    "        layout=layout,\n",
    "        style=style\n",
    "    )\n",
    "    display(multi_point_col_widget)\n",
    "\n",
    "    def multi_point_col_callback(wdgt):\n",
    "        global multi_point_col_name\n",
    "        multi_point_col_name = str(wdgt.value)\n",
    "        display(multi_point_col_name)\n",
    "        \n",
    "        with output_multi_point_col:\n",
    "            clear_output()\n",
    "            print('Column Name: ', multi_point_col_name)\n",
    "\n",
    "    multi_point_col_widget.on_submit(multi_point_col_callback)\n",
    "    "
   ]
  },
  {
   "cell_type": "code",
   "execution_count": 28,
   "metadata": {},
   "outputs": [],
   "source": [
    "def separate_bullets(b):\n",
    "    global df\n",
    "    with output_separate_bullets:\n",
    "        clear_output()\n",
    "        print('Separating column with multiple points per row.')\n",
    "        \n",
    "    s = df[multi_point_col_name].str.split('  ').apply(pd.Series, 1).stack()\n",
    "    s.index = s.index.droplevel(-1)\n",
    "    s.name = multi_point_col_name\n",
    "\n",
    "    del df[multi_point_col_name]\n",
    "    df = df.join(s)\n",
    "\n",
    "    df[multi_point_col_name] = df[multi_point_col_name].str.replace('', '')\n",
    "    df[multi_point_col_name] = df[multi_point_col_name].str.replace('  ', '')\n",
    "    df.drop(df.columns[[0]], axis=1, inplace=True)\n",
    "    \n",
    "    with output_separate_bullets:\n",
    "        print('Finished separating points.')"
   ]
  },
  {
   "cell_type": "code",
   "execution_count": 36,
   "metadata": {},
   "outputs": [],
   "source": [
    "def save_table_to_excel(b):\n",
    "    excel_filename = name_of_document[0][9:-18] + '_' + str(pages_iter[0]) + '_' + str(pages_iter[-1]) + '.xlsx'\n",
    "    df.to_excel(excel_filename, index=False)\n",
    "    from IPython.display import FileLink\n",
    "    display(FileLink(excel_filename))\n",
    "    with output_save_table:\n",
    "        clear_output()\n",
    "        print('Saved Table')"
   ]
  },
  {
   "cell_type": "code",
   "execution_count": 30,
   "metadata": {},
   "outputs": [
    {
     "data": {
      "application/vnd.jupyter.widget-view+json": {
       "model_id": "3914019ee1f647c99ec82ced6d0a198d",
       "version_major": 2,
       "version_minor": 0
      },
      "text/plain": [
       "Text(value='', description='Pages (comma separated): ', layout=Layout(display='flex', flex_flow='column'), pla…"
      ]
     },
     "metadata": {},
     "output_type": "display_data"
    },
    {
     "data": {
      "application/vnd.jupyter.widget-view+json": {
       "model_id": "d89c45b7d17246508267ac85d60c48f3",
       "version_major": 2,
       "version_minor": 0
      },
      "text/plain": [
       "Output()"
      ]
     },
     "metadata": {},
     "output_type": "display_data"
    },
    {
     "data": {
      "application/vnd.jupyter.widget-view+json": {
       "model_id": "0a83b52b63b74ebb8b9df207985809ee",
       "version_major": 2,
       "version_minor": 0
      },
      "text/plain": [
       "Text(value='', description='Section Name: ', layout=Layout(display='flex', flex_flow='column'), placeholder='e…"
      ]
     },
     "metadata": {},
     "output_type": "display_data"
    },
    {
     "data": {
      "application/vnd.jupyter.widget-view+json": {
       "model_id": "3b441a9b95f64994b1faba247f04def8",
       "version_major": 2,
       "version_minor": 0
      },
      "text/plain": [
       "Output()"
      ]
     },
     "metadata": {},
     "output_type": "display_data"
    },
    {
     "data": {
      "application/vnd.jupyter.widget-view+json": {
       "model_id": "08e3330ea1e04be98b2d03e9d89fe81e",
       "version_major": 2,
       "version_minor": 0
      },
      "text/plain": [
       "Text(value='', description='Appendix Name: ', layout=Layout(display='flex', flex_flow='column'), placeholder='…"
      ]
     },
     "metadata": {},
     "output_type": "display_data"
    },
    {
     "data": {
      "application/vnd.jupyter.widget-view+json": {
       "model_id": "519e7dff40914f2795aee080b4c8456d",
       "version_major": 2,
       "version_minor": 0
      },
      "text/plain": [
       "Output()"
      ]
     },
     "metadata": {},
     "output_type": "display_data"
    },
    {
     "data": {
      "text/plain": [
       "'131, 132, 133, 134'"
      ]
     },
     "metadata": {},
     "output_type": "display_data"
    },
    {
     "data": {
      "text/plain": [
       "''"
      ]
     },
     "metadata": {},
     "output_type": "display_data"
    },
    {
     "data": {
      "text/plain": [
       "''"
      ]
     },
     "metadata": {},
     "output_type": "display_data"
    }
   ],
   "source": [
    "input_pages()\n",
    "display(output_pages)\n",
    "input_section()\n",
    "display(output_section)\n",
    "input_appendix()\n",
    "display(output_appendix)"
   ]
  },
  {
   "cell_type": "code",
   "execution_count": 32,
   "metadata": {},
   "outputs": [
    {
     "data": {
      "application/vnd.jupyter.widget-view+json": {
       "model_id": "9ccb5398ae814640bfa1cdb6ca3665ad",
       "version_major": 2,
       "version_minor": 0
      },
      "text/plain": [
       "Button(description='Extract Table', style=ButtonStyle())"
      ]
     },
     "metadata": {},
     "output_type": "display_data"
    },
    {
     "data": {
      "application/vnd.jupyter.widget-view+json": {
       "model_id": "93bede3186e444b48aee2bc0f8dd22e5",
       "version_major": 2,
       "version_minor": 0
      },
      "text/plain": [
       "Output(outputs=({'output_type': 'stream', 'text': 'start extracting\\nfile path: A76575-3_NEB_-_Report_-_Enbrid…"
      ]
     },
     "metadata": {},
     "output_type": "display_data"
    }
   ],
   "source": [
    "extract_button = widgets.Button(description=\"Extract Table\")\n",
    "display(extract_button)\n",
    "display(output_extract_table)\n",
    "\n",
    "extract_button.on_click(extract_table)"
   ]
  },
  {
   "cell_type": "code",
   "execution_count": 33,
   "metadata": {},
   "outputs": [
    {
     "data": {
      "application/vnd.jupyter.widget-view+json": {
       "model_id": "cf70af8b004b49c586dea940c8498449",
       "version_major": 2,
       "version_minor": 0
      },
      "text/plain": [
       "Text(value='', description='Name of column with multiple bullet points: ', layout=Layout(display='flex', flex_…"
      ]
     },
     "metadata": {},
     "output_type": "display_data"
    },
    {
     "data": {
      "application/vnd.jupyter.widget-view+json": {
       "model_id": "ea3352c2f84a451cbae02e5584b713f5",
       "version_major": 2,
       "version_minor": 0
      },
      "text/plain": [
       "Output()"
      ]
     },
     "metadata": {},
     "output_type": "display_data"
    },
    {
     "data": {
      "text/plain": [
       "'Environmental Issue(s) Raised'"
      ]
     },
     "metadata": {},
     "output_type": "display_data"
    }
   ],
   "source": [
    "input_multi_point_col()\n",
    "display(output_multi_point_col)"
   ]
  },
  {
   "cell_type": "code",
   "execution_count": 34,
   "metadata": {},
   "outputs": [
    {
     "data": {
      "application/vnd.jupyter.widget-view+json": {
       "model_id": "d49330473f3d4ee29a831f079036eb47",
       "version_major": 2,
       "version_minor": 0
      },
      "text/plain": [
       "Button(description='Create new row for each point', layout=Layout(height='40px', width='auto'), style=ButtonSt…"
      ]
     },
     "metadata": {},
     "output_type": "display_data"
    },
    {
     "data": {
      "application/vnd.jupyter.widget-view+json": {
       "model_id": "c23cdb889a41400ab11f28f6562b0a68",
       "version_major": 2,
       "version_minor": 0
      },
      "text/plain": [
       "Output()"
      ]
     },
     "metadata": {},
     "output_type": "display_data"
    }
   ],
   "source": [
    "separate_bullets_button = widgets.Button(description=\"Create new row for each point\",\n",
    "                                         disabled=False,\n",
    "                                         display='flex',\n",
    "                                         flex_flow='column',\n",
    "                                         align_items='stretch', \n",
    "                                         layout = button_layout)\n",
    "display(separate_bullets_button)\n",
    "display(output_separate_bullets)\n",
    "separate_bullets_button.on_click(separate_bullets)"
   ]
  },
  {
   "cell_type": "code",
   "execution_count": 37,
   "metadata": {},
   "outputs": [
    {
     "data": {
      "application/vnd.jupyter.widget-view+json": {
       "model_id": "7074903860f8480696dc91fd23e86abd",
       "version_major": 2,
       "version_minor": 0
      },
      "text/plain": [
       "Button(description='Save Table', layout=Layout(height='40px', width='auto'), style=ButtonStyle())"
      ]
     },
     "metadata": {},
     "output_type": "display_data"
    },
    {
     "data": {
      "application/vnd.jupyter.widget-view+json": {
       "model_id": "1fcbba20e2264a3bbde14aaca93c552c",
       "version_major": 2,
       "version_minor": 0
      },
      "text/plain": [
       "Output()"
      ]
     },
     "metadata": {},
     "output_type": "display_data"
    },
    {
     "data": {
      "text/html": [
       "<a href='NEB_-_Report_-_Enbridge_-_Line_3_Replacement_Detailed_Assessment_131_134.xlsx' target='_blank'>NEB_-_Report_-_Enbridge_-_Line_3_Replacement_Detailed_Assessment_131_134.xlsx</a><br>"
      ],
      "text/plain": [
       "/Users/jacquesthibodeau/Desktop/Code/indigenous-comments-webapp/NEB_-_Report_-_Enbridge_-_Line_3_Replacement_Detailed_Assessment_131_134.xlsx"
      ]
     },
     "metadata": {},
     "output_type": "display_data"
    }
   ],
   "source": [
    "save_button = widgets.Button(description=\"Save Table\",\n",
    "                             disabled=False,\n",
    "                             display='flex',\n",
    "                             flex_flow='column',\n",
    "                             align_items='stretch', \n",
    "                             layout = button_layout)\n",
    "display(save_button)\n",
    "display(output_save_table)\n",
    "save_button.on_click(save_table_to_excel)"
   ]
  },
  {
   "cell_type": "code",
   "execution_count": null,
   "metadata": {},
   "outputs": [],
   "source": [
    "# # A button example\n",
    "# from IPython.display import display\n",
    "# button = widgets.Button(description=\"Click Me!\")\n",
    "# output = widgets.Output()\n",
    "\n",
    "# display(button, output)\n",
    "\n",
    "# def on_button_clicked(b):\n",
    "#     with output:\n",
    "#         print(\"Button clicked.\")\n",
    "\n",
    "# button.on_click(on_button_clicked)"
   ]
  }
 ],
 "metadata": {
  "kernelspec": {
   "display_name": "Python 3",
   "language": "python",
   "name": "python3"
  },
  "language_info": {
   "codemirror_mode": {
    "name": "ipython",
    "version": 3
   },
   "file_extension": ".py",
   "mimetype": "text/x-python",
   "name": "python",
   "nbconvert_exporter": "python",
   "pygments_lexer": "ipython3",
   "version": "3.7.4"
  }
 },
 "nbformat": 4,
 "nbformat_minor": 4
}
